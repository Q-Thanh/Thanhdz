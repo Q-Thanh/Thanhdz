{
 "cells": [
  {
   "cell_type": "code",
   "execution_count": 8,
   "id": "9b209850-bc7e-45c5-a1ea-3d0a93e60e81",
   "metadata": {},
   "outputs": [
    {
     "name": "stdin",
     "output_type": "stream",
     "text": [
      "nhap n:  6\n"
     ]
    },
    {
     "name": "stdout",
     "output_type": "stream",
     "text": [
      "15 so nguyen to lon hon n la: 7 11 13 17 19 23 29 31 37 41 43 47 53 59 61 "
     ]
    }
   ],
   "source": [
    "# bai 1\n",
    "import math\n",
    "def is_prime(n):\n",
    "    if(n<2):\n",
    "        return False\n",
    "    for i in range(2,int(math.sqrt(n))+1):\n",
    "        if(n%i==0):\n",
    "            return False\n",
    "    return True\n",
    "n =int(input(\"nhap n: \"))\n",
    "demSNT=0\n",
    "print(\"15 so nguyen to lon hon n la: \",end=\"\")\n",
    "while demSNT<15:\n",
    "    if(is_prime(n)):\n",
    "        print(n,end =\" \")\n",
    "        demSNT+=1\n",
    "    n+=1\n",
    "\n",
    "\n"
   ]
  },
  {
   "cell_type": "code",
   "execution_count": 16,
   "id": "4b5f6c65-d7fc-4d1b-94fe-9b7d9f1afccf",
   "metadata": {},
   "outputs": [
    {
     "name": "stdin",
     "output_type": "stream",
     "text": [
      "Nhap so nguyen duong n: 10\n"
     ]
    },
    {
     "name": "stdout",
     "output_type": "stream",
     "text": [
      "cac so trong day fibonacci la: [1, 1, 2, 3, 5, 8, 13, 21, 34, 55]\n"
     ]
    }
   ],
   "source": [
    "#bai 2\n",
    "import math\n",
    "def Fibonacci(n):\n",
    "    mang = []\n",
    "    if(n<=0):\n",
    "        return \"n phai la so nguyen duong\"\n",
    "    f1=1\n",
    "    f2=1\n",
    "    for i in range(1,n+1):\n",
    "        if(i==1 or i==2): \n",
    "            mang.append(1)\n",
    "        else:\n",
    "            f3=f1+f2\n",
    "            f1=f2\n",
    "            f2=f3\n",
    "            mang.append(f2)\n",
    "    return mang\n",
    "n=int(input(\"Nhap so nguyen duong n:\"))\n",
    "mangcantim=Fibonacci(n)\n",
    "print(\"cac so trong day fibonacci la:\", mangcantim)"
   ]
  },
  {
   "cell_type": "code",
   "execution_count": 18,
   "id": "228a354e-23d9-4556-a29a-cbf5b946c518",
   "metadata": {},
   "outputs": [
    {
     "name": "stdin",
     "output_type": "stream",
     "text": [
      "hay nhap vao mot chuoi: aha\n"
     ]
    },
    {
     "name": "stdout",
     "output_type": "stream",
     "text": [
      "chuoi co doi xung\n"
     ]
    }
   ],
   "source": [
    "#bai 3\n",
    "def KTDX(s):\n",
    "    return s[::-1]\n",
    "string = input(\"hay nhap vao mot chuoi:\")\n",
    "if KTDX(string):\n",
    "    print(\"chuoi co doi xung\")\n",
    "else:\n",
    "    print(\"chuoi khong doi xung\")"
   ]
  },
  {
   "cell_type": "code",
   "execution_count": 1,
   "id": "6c0fd5ca-c35e-410a-93de-c43f83fb8496",
   "metadata": {},
   "outputs": [
    {
     "name": "stdout",
     "output_type": "stream",
     "text": [
      "chuoi con tang dai nhat trong L la: [0, 3, 4, 4, 9]\n",
      "do dai cua chuoi con la: 5\n"
     ]
    }
   ],
   "source": [
    "#bai4\n",
    "L=[2,1,0,3,5,7,4,9]   \n",
    "def chuoicon(L):\n",
    "    list= []\n",
    "    for n in L:\n",
    "        if not list or n > list[-1]:\n",
    "            list.append(n)\n",
    "        else:\n",
    "            for i in range(len(list)):\n",
    "                if list[i] >= n:\n",
    "                    list[i] = n\n",
    "    return list\n",
    "list = chuoicon(L)\n",
    "print(f\"chuoi con tang dai nhat trong L la: {list}\")\n",
    "print(f\"do dai cua chuoi con la: {len(list)}\")"
   ]
  },
  {
   "cell_type": "code",
   "execution_count": 18,
   "id": "e584bc0d-7343-48af-88ea-f0dc7c2674ad",
   "metadata": {},
   "outputs": [
    {
     "name": "stdout",
     "output_type": "stream",
     "text": [
      "xau con chung dai nhat la: bcd\n"
     ]
    }
   ],
   "source": [
    "#bai 5\n",
    "def xaucondainhat(a,b):\n",
    "    vitricuoi_a=0\n",
    "    max_ds=0 \n",
    "    for i in range(len(a)):\n",
    "        dodai_ds=0\n",
    "        for j in range(len(b)):\n",
    "            while i + dodai_ds < len(a) and j + dodai_ds < len(b) and a[i+dodai_ds]==b[j+dodai_ds]:\n",
    "                dodai_ds+=1\n",
    "                if dodai_ds> max_ds:\n",
    "                    max_ds=dodai_ds\n",
    "                    vitricuoi_a= i+dodai_ds\n",
    "    list = a[vitricuoi_a-max_ds:vitricuoi_a]\n",
    "    return list\n",
    "a =\"abcdefgh\"\n",
    "b =\"fbcdhgi\"\n",
    "kq = xaucondainhat(a,b)\n",
    "print(\"xau con chung dai nhat la:\", kq)"
   ]
  },
  {
   "cell_type": "code",
   "execution_count": null,
   "id": "30e96c91-517a-4183-9c48-88d5869b788d",
   "metadata": {},
   "outputs": [],
   "source": []
  }
 ],
 "metadata": {
  "kernelspec": {
   "display_name": "Python 3 (ipykernel)",
   "language": "python",
   "name": "python3"
  },
  "language_info": {
   "codemirror_mode": {
    "name": "ipython",
    "version": 3
   },
   "file_extension": ".py",
   "mimetype": "text/x-python",
   "name": "python",
   "nbconvert_exporter": "python",
   "pygments_lexer": "ipython3",
   "version": "3.12.8"
  }
 },
 "nbformat": 4,
 "nbformat_minor": 5
}
